{
 "metadata": {
  "name": "",
  "signature": "sha256:1774355456fc89b7bd2a94cf3154dd3506f18b31323c3064f1311a89d7851323"
 },
 "nbformat": 3,
 "nbformat_minor": 0,
 "worksheets": [
  {
   "cells": [
    {
     "cell_type": "code",
     "collapsed": false,
     "input": [
      "import struct\n",
      "from collections import Counter"
     ],
     "language": "python",
     "metadata": {},
     "outputs": [],
     "prompt_number": 31
    },
    {
     "cell_type": "code",
     "collapsed": false,
     "input": [
      "path='/home/thesis/parsed/dell/prng_input-parsed/add_device_randomness-__dev_open'"
     ],
     "language": "python",
     "metadata": {},
     "outputs": [],
     "prompt_number": 32
    },
    {
     "cell_type": "code",
     "collapsed": false,
     "input": [
      "with open(path, 'rb') as fd:\n",
      "    entries = []\n",
      "    \n",
      "    while True:\n",
      "        buflen = 0\n",
      "        buf = b''\n",
      "        \n",
      "        buflenraw = fd.read(8)\n",
      "        if len(buflenraw) == 0:\n",
      "            break\n",
      "            \n",
      "        buflen = struct.unpack('q', buflenraw)[0]\n",
      "        entries.append(fd.read(buflen))\n",
      "        \n",
      "    print('# of entries: {}'.format(len(entries)))\n",
      "    print('# of different entries: {}'.format(len(Counter(entries))))\n",
      "        "
     ],
     "language": "python",
     "metadata": {},
     "outputs": [
      {
       "output_type": "stream",
       "stream": "stdout",
       "text": [
        "# of entries: 18456\n",
        "# of different entries: 4\n"
       ]
      }
     ],
     "prompt_number": 36
    },
    {
     "cell_type": "code",
     "collapsed": false,
     "input": [
      "Counter(list(entries[0]))[0]"
     ],
     "language": "python",
     "metadata": {},
     "outputs": [
      {
       "metadata": {},
       "output_type": "pyout",
       "prompt_number": 47,
       "text": [
        "6"
       ]
      }
     ],
     "prompt_number": 47
    },
    {
     "cell_type": "code",
     "collapsed": false,
     "input": [],
     "language": "python",
     "metadata": {},
     "outputs": []
    }
   ],
   "metadata": {}
  }
 ]
}