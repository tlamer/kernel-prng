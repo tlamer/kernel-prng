{
 "metadata": {
  "name": "",
  "signature": "sha256:0f381761edad79677c73508844583ebe0d88c8ef1364fb0914adca8f6f66f7aa"
 },
 "nbformat": 3,
 "nbformat_minor": 0,
 "worksheets": [
  {
   "cells": [
    {
     "cell_type": "code",
     "collapsed": false,
     "input": [
      "import math\n",
      "import collections"
     ],
     "language": "python",
     "metadata": {},
     "outputs": [],
     "prompt_number": 16
    },
    {
     "cell_type": "code",
     "collapsed": false,
     "input": [
      "vals = [int(x.strip()) for x in open('/home/thesis/os-parsed/values/add_device_randomness_time-usb_new_device').readlines()]"
     ],
     "language": "python",
     "metadata": {},
     "outputs": [],
     "prompt_number": 17
    },
    {
     "cell_type": "code",
     "collapsed": false,
     "input": [
      "def minentropy(samples):\n",
      "    Cmax = collections.Counter(samples).most_common(1)[0][1]\n",
      "    N = len(samples)\n",
      "    Pmax = Cmax/N\n",
      "    Cbound = Cmax + 2.3 * math.sqrt(N*Pmax*(1-Pmax))\n",
      "    H = - math.log2(Cbound/N)\n",
      "    \n",
      "    print(\"N =      {}\".format(N))\n",
      "    print(\"Cmax =   {}\".format(Cmax))\n",
      "    print(\"Pmax =   {}\".format(Pmax))\n",
      "    print(\"Cbound = {}\".format(Cbound))\n",
      "    print(\"H =      {}\".format(H))\n",
      "    \n",
      "    "
     ],
     "language": "python",
     "metadata": {},
     "outputs": [],
     "prompt_number": 28
    },
    {
     "cell_type": "code",
     "collapsed": false,
     "input": [
      "minentropy(vals)"
     ],
     "language": "python",
     "metadata": {},
     "outputs": [
      {
       "output_type": "stream",
       "stream": "stdout",
       "text": [
        "N =      84870\n",
        "Cmax =   1\n",
        "Pmax =   1.1782726522917404e-05\n",
        "Cbound = 3.299986449824584\n",
        "H =      14.650506956415805\n"
       ]
      }
     ],
     "prompt_number": 29
    },
    {
     "cell_type": "code",
     "collapsed": false,
     "input": [],
     "language": "python",
     "metadata": {},
     "outputs": []
    }
   ],
   "metadata": {}
  }
 ]
}